{
  "nbformat": 4,
  "nbformat_minor": 0,
  "metadata": {
    "colab": {
      "provenance": []
    },
    "kernelspec": {
      "name": "python3",
      "display_name": "Python 3"
    },
    "language_info": {
      "name": "python"
    }
  },
  "cells": [
    {
      "cell_type": "markdown",
      "source": [
        "### Завдання 1: Створення матриць та векторів\n",
        "1. Створіть `numpy` вектор `vector` розмірністю 10 з випадковими дійсними значеннями в діапазоні від 0 до 1. Можна скористатись двома альтернативними варіантами:\n",
        "  1. Генерація випадкових чисел з модулем [`random.uniform`](https://docs.python.org/3/library/random.html).\n",
        "  2. Створення вектора з допомогою метода `numpy` [np.random.rand](https://numpy.org/doc/stable/reference/random/generated/numpy.random.rand.html)\n",
        "\n",
        "2. Створіть матрицю `matrix` типу `numpy.array` розмірності 3x3 з наступними значеннями\n",
        "\n",
        "  $$\n",
        "  matrix = \\begin{bmatrix}\n",
        "  11 & 14 & 17 \\\\\n",
        "  20 & 23 & 26 \\\\\n",
        "  29 & 32 & 35\n",
        "  \\end{bmatrix}\n",
        "  $$\n",
        "\n",
        "  будь-яким відомими Вам способом.\n",
        "\n",
        "Виведіть на екран вектор і матрицю, а також їх розміри.\n"
      ],
      "metadata": {
        "id": "efug1V4CM0lT"
      }
    },
    {
      "cell_type": "code",
      "source": [
        "import numpy as np\n",
        "import matplotlib.pyplot as plt"
      ],
      "metadata": {
        "id": "jxA_lG2_VIMe"
      },
      "execution_count": 2,
      "outputs": []
    },
    {
      "cell_type": "code",
      "source": [
        "vector = np.random.rand (10)\n",
        "v = np.round(vector, 2)\n",
        "print(v)"
      ],
      "metadata": {
        "colab": {
          "base_uri": "https://localhost:8080/"
        },
        "id": "OXHgxUYx4G5I",
        "outputId": "357021b6-36ad-4f3e-9f7f-eb2718915614"
      },
      "execution_count": 3,
      "outputs": [
        {
          "output_type": "stream",
          "name": "stdout",
          "text": [
            "[0.79 0.89 0.73 0.37 0.08 0.39 0.95 0.65 0.15 0.03]\n"
          ]
        }
      ]
    },
    {
      "cell_type": "code",
      "source": [
        "for value in v:\n",
        "    print(value)"
      ],
      "metadata": {
        "colab": {
          "base_uri": "https://localhost:8080/"
        },
        "id": "uv0lkjeiEJxm",
        "outputId": "2803b8e2-c7aa-4751-c57e-92e54eb99e03"
      },
      "execution_count": 4,
      "outputs": [
        {
          "output_type": "stream",
          "name": "stdout",
          "text": [
            "0.79\n",
            "0.89\n",
            "0.73\n",
            "0.37\n",
            "0.08\n",
            "0.39\n",
            "0.95\n",
            "0.65\n",
            "0.15\n",
            "0.03\n"
          ]
        }
      ]
    },
    {
      "cell_type": "code",
      "source": [
        "#створення вектора-стовпця v\n",
        "v_value = v.reshape (10, 1)\n",
        "#створення матриці m\n",
        "m = np.array ([[11, 14, 17],\n",
        "               [20, 23, 26],\n",
        "               [29, 32, 35]])\n",
        "\n",
        "print(\"Вектор стовбець v\")\n",
        "print(v_value)\n",
        "print(\"\\nМатриця m:\")\n",
        "print(m)"
      ],
      "metadata": {
        "colab": {
          "base_uri": "https://localhost:8080/"
        },
        "id": "qMfYXknV9QrB",
        "outputId": "6d85ad9a-a443-40bb-d6b8-a7fbea861527"
      },
      "execution_count": 5,
      "outputs": [
        {
          "output_type": "stream",
          "name": "stdout",
          "text": [
            "Вектор стовбець v\n",
            "[[0.79]\n",
            " [0.89]\n",
            " [0.73]\n",
            " [0.37]\n",
            " [0.08]\n",
            " [0.39]\n",
            " [0.95]\n",
            " [0.65]\n",
            " [0.15]\n",
            " [0.03]]\n",
            "\n",
            "Матриця m:\n",
            "[[11 14 17]\n",
            " [20 23 26]\n",
            " [29 32 35]]\n"
          ]
        }
      ]
    },
    {
      "cell_type": "code",
      "source": [
        "v, v.shape, m, m.shape"
      ],
      "metadata": {
        "colab": {
          "base_uri": "https://localhost:8080/"
        },
        "id": "SuNuzvcAOuba",
        "outputId": "fdcb7cae-357e-4883-c93e-33701c02d7d1"
      },
      "execution_count": 6,
      "outputs": [
        {
          "output_type": "execute_result",
          "data": {
            "text/plain": [
              "(array([0.79, 0.89, 0.73, 0.37, 0.08, 0.39, 0.95, 0.65, 0.15, 0.03]),\n",
              " (10,),\n",
              " array([[11, 14, 17],\n",
              "        [20, 23, 26],\n",
              "        [29, 32, 35]]),\n",
              " (3, 3))"
            ]
          },
          "metadata": {},
          "execution_count": 6
        }
      ]
    },
    {
      "cell_type": "markdown",
      "source": [
        "\n",
        "### Завдання 2: Операції над векторами та матрицями\n",
        "Виконайте кожну з зазначених операцій над зазначеними оʼєктами і виведіть результат на екран:\n",
        "1. Додайте до кожного значення вектора `vector` число 10 і округліть кожне значення до 2 знаків після коми без використання циклів.\n",
        "2. Помножте кожен елемент матриці з першого завдання на 2 без використання циклів.\n",
        "3. Створіть новий вектор, який містить квадрат кожного `vector` без циклів.\n"
      ],
      "metadata": {
        "id": "TSJ1P4OuOVe2"
      }
    },
    {
      "cell_type": "code",
      "source": [
        "v_10 = v_value + 10\n",
        "print(v_10)"
      ],
      "metadata": {
        "colab": {
          "base_uri": "https://localhost:8080/"
        },
        "id": "sOKwOmqSJObx",
        "outputId": "19af9608-6980-438d-b46c-d7fcbc25adaf"
      },
      "execution_count": 7,
      "outputs": [
        {
          "output_type": "stream",
          "name": "stdout",
          "text": [
            "[[10.79]\n",
            " [10.89]\n",
            " [10.73]\n",
            " [10.37]\n",
            " [10.08]\n",
            " [10.39]\n",
            " [10.95]\n",
            " [10.65]\n",
            " [10.15]\n",
            " [10.03]]\n"
          ]
        }
      ]
    },
    {
      "cell_type": "code",
      "source": [
        "v_10.shape"
      ],
      "metadata": {
        "colab": {
          "base_uri": "https://localhost:8080/"
        },
        "id": "yaet6ktpJlLw",
        "outputId": "1ae961a2-f234-40ac-c288-ada97d0327ca"
      },
      "execution_count": 8,
      "outputs": [
        {
          "output_type": "execute_result",
          "data": {
            "text/plain": [
              "(10, 1)"
            ]
          },
          "metadata": {},
          "execution_count": 8
        }
      ]
    },
    {
      "cell_type": "code",
      "source": [
        "# множення матриці m на константу 2\n",
        "m_mult_const = m * 2\n",
        "print(m_mult_const)"
      ],
      "metadata": {
        "colab": {
          "base_uri": "https://localhost:8080/"
        },
        "id": "BO9f7tK1KCZC",
        "outputId": "709530b8-d8b6-405c-98e4-1381769db5e0"
      },
      "execution_count": 9,
      "outputs": [
        {
          "output_type": "stream",
          "name": "stdout",
          "text": [
            "[[22 28 34]\n",
            " [40 46 52]\n",
            " [58 64 70]]\n"
          ]
        }
      ]
    },
    {
      "cell_type": "code",
      "source": [
        "# новий вектор, який містить квадрат кожного vector\n",
        "v_square = v_10 ** 2\n",
        "print(v_square)"
      ],
      "metadata": {
        "colab": {
          "base_uri": "https://localhost:8080/"
        },
        "id": "L2JPDAc-KhmA",
        "outputId": "b99234e3-ba9f-4da4-924a-8157cbef8f11"
      },
      "execution_count": 10,
      "outputs": [
        {
          "output_type": "stream",
          "name": "stdout",
          "text": [
            "[[116.4241]\n",
            " [118.5921]\n",
            " [115.1329]\n",
            " [107.5369]\n",
            " [101.6064]\n",
            " [107.9521]\n",
            " [119.9025]\n",
            " [113.4225]\n",
            " [103.0225]\n",
            " [100.6009]]\n"
          ]
        }
      ]
    },
    {
      "cell_type": "code",
      "source": [
        "v_square, v_square.shape"
      ],
      "metadata": {
        "colab": {
          "base_uri": "https://localhost:8080/"
        },
        "id": "uErYHHsyNkYb",
        "outputId": "6058612c-6de3-4b6a-bd7c-b365445724d0"
      },
      "execution_count": 11,
      "outputs": [
        {
          "output_type": "execute_result",
          "data": {
            "text/plain": [
              "(array([[116.4241],\n",
              "        [118.5921],\n",
              "        [115.1329],\n",
              "        [107.5369],\n",
              "        [101.6064],\n",
              "        [107.9521],\n",
              "        [119.9025],\n",
              "        [113.4225],\n",
              "        [103.0225],\n",
              "        [100.6009]]),\n",
              " (10, 1))"
            ]
          },
          "metadata": {},
          "execution_count": 11
        }
      ]
    },
    {
      "cell_type": "markdown",
      "source": [
        "\n",
        "### Завдання 3: Множення матриць\n",
        "1. Задані дві матриці `A` і `B`розмірностями 3x2 та 2х3. Виконайте їхнє множення, щоб отримати матрицю 2x2. Виведіть результуючу матрицю `result_matrix` на екран.\n",
        "\n",
        "2. Заданий вектор `C` розмірністю 2х1. Подумайте спочатку, яку розмірність Ви отрмаєте, коли домножите `result_matrix` на вектор `C` і який результат буде. А потім виконайте множення і виведіть результат на екран.\n",
        "\n",
        "3. Задана матриця `D` розмірністю 2х2. Подумайте спочатку, яку розмірність Ви отрмаєте, коли домножите `result_matrix` на матрицю `D` і який результат буде. А потім виконайте множення і виведіть результат на екран."
      ],
      "metadata": {
        "id": "u6RvWVfhPy-k"
      }
    },
    {
      "cell_type": "code",
      "source": [
        "A = np.array(\n",
        "    [[0.18, 0.53],\n",
        "     [0.75, 0.47],\n",
        "     [0.35, 0.21]])\n",
        "\n",
        "B = np.array(\n",
        "    [[0.17, 0.58, 0.75],\n",
        "     [0.38, 0.11, 0.15]])\n",
        "\n",
        "C = np.array([[0], [1]])\n",
        "\n",
        "D = np.array([[0,1], [1,0]])\n",
        "\n",
        "display(A, B, C, D)"
      ],
      "metadata": {
        "id": "RwXfPzlbSJ44",
        "colab": {
          "base_uri": "https://localhost:8080/",
          "height": 178
        },
        "outputId": "953cc8e1-7ee9-47ca-89f3-94080a867f98"
      },
      "execution_count": 34,
      "outputs": [
        {
          "output_type": "display_data",
          "data": {
            "text/plain": [
              "array([[0.18, 0.53],\n",
              "       [0.75, 0.47],\n",
              "       [0.35, 0.21]])"
            ]
          },
          "metadata": {}
        },
        {
          "output_type": "display_data",
          "data": {
            "text/plain": [
              "array([[0.17, 0.58, 0.75],\n",
              "       [0.38, 0.11, 0.15]])"
            ]
          },
          "metadata": {}
        },
        {
          "output_type": "display_data",
          "data": {
            "text/plain": [
              "array([[0],\n",
              "       [1]])"
            ]
          },
          "metadata": {}
        },
        {
          "output_type": "display_data",
          "data": {
            "text/plain": [
              "array([[0, 1],\n",
              "       [1, 0]])"
            ]
          },
          "metadata": {}
        }
      ]
    },
    {
      "cell_type": "markdown",
      "source": [
        "#1"
      ],
      "metadata": {
        "id": "7z_eG10TOGdF"
      }
    },
    {
      "cell_type": "code",
      "source": [
        "E = np.dot(A, B)\n",
        "print(E)"
      ],
      "metadata": {
        "id": "z7-boTbhVKkj",
        "colab": {
          "base_uri": "https://localhost:8080/"
        },
        "outputId": "37228c2d-a8e8-414e-c399-9bc847a095a6"
      },
      "execution_count": 13,
      "outputs": [
        {
          "output_type": "stream",
          "name": "stdout",
          "text": [
            "[[0.232  0.1627 0.2145]\n",
            " [0.3061 0.4867 0.633 ]\n",
            " [0.1393 0.2261 0.294 ]]\n"
          ]
        }
      ]
    },
    {
      "cell_type": "code",
      "source": [
        "#варіант 2*2 матриці, якщо скорочуємо кінцеву матрицю result_matrix\n",
        "E_2X2_2 = E[:2, :2]\n",
        "print(E_2X2_2)"
      ],
      "metadata": {
        "colab": {
          "base_uri": "https://localhost:8080/"
        },
        "id": "peWq3abbCa1l",
        "outputId": "ab40535f-8a54-49a6-dbf5-62d2873acb47"
      },
      "execution_count": 14,
      "outputs": [
        {
          "output_type": "stream",
          "name": "stdout",
          "text": [
            "[[0.232  0.1627]\n",
            " [0.3061 0.4867]]\n"
          ]
        }
      ]
    },
    {
      "cell_type": "code",
      "source": [
        "A, A.shape, B, B.shape, E, E.shape"
      ],
      "metadata": {
        "colab": {
          "base_uri": "https://localhost:8080/"
        },
        "id": "fHqx10E1AsOE",
        "outputId": "a6c427e7-541c-4653-bfaf-17c54bfc8edd"
      },
      "execution_count": 15,
      "outputs": [
        {
          "output_type": "execute_result",
          "data": {
            "text/plain": [
              "(array([[0.18, 0.53],\n",
              "        [0.75, 0.47],\n",
              "        [0.35, 0.21]]),\n",
              " (3, 2),\n",
              " array([[0.17, 0.58, 0.75],\n",
              "        [0.38, 0.11, 0.15]]),\n",
              " (2, 3),\n",
              " array([[0.232 , 0.1627, 0.2145],\n",
              "        [0.3061, 0.4867, 0.633 ],\n",
              "        [0.1393, 0.2261, 0.294 ]]),\n",
              " (3, 3))"
            ]
          },
          "metadata": {},
          "execution_count": 15
        }
      ]
    },
    {
      "cell_type": "code",
      "source": [
        "A_2x2 = A[:2, :2]\n",
        "print(A_2x2)"
      ],
      "metadata": {
        "colab": {
          "base_uri": "https://localhost:8080/"
        },
        "id": "ax7lUYnXB8SD",
        "outputId": "22a15bb3-5bdc-4d7e-b726-8f407983cb30"
      },
      "execution_count": 16,
      "outputs": [
        {
          "output_type": "stream",
          "name": "stdout",
          "text": [
            "[[0.18 0.53]\n",
            " [0.75 0.47]]\n"
          ]
        }
      ]
    },
    {
      "cell_type": "code",
      "source": [
        "B_2x2 = B[:2, :2]\n",
        "print(B_2x2)"
      ],
      "metadata": {
        "colab": {
          "base_uri": "https://localhost:8080/"
        },
        "id": "quZkdMDCCAMh",
        "outputId": "9a400f87-da29-49de-ba76-7dbbf2f618b3"
      },
      "execution_count": 17,
      "outputs": [
        {
          "output_type": "stream",
          "name": "stdout",
          "text": [
            "[[0.17 0.58]\n",
            " [0.38 0.11]]\n"
          ]
        }
      ]
    },
    {
      "cell_type": "code",
      "source": [
        "# варіант, коли приводимо до вигляду 2*2 начаткові матриці, які будемо перемножати, щоб отримати result_matrix\n",
        "E_2X2 = np.dot(A_2x2, B_2x2)\n",
        "print(E_2X2)"
      ],
      "metadata": {
        "colab": {
          "base_uri": "https://localhost:8080/"
        },
        "id": "XkxRQyanCFKJ",
        "outputId": "15e8db8a-52cd-4c11-c2a2-e8756f777848"
      },
      "execution_count": 18,
      "outputs": [
        {
          "output_type": "stream",
          "name": "stdout",
          "text": [
            "[[0.232  0.1627]\n",
            " [0.3061 0.4867]]\n"
          ]
        }
      ]
    },
    {
      "cell_type": "markdown",
      "source": [
        "# 2\n",
        "Розмірність матриці при множенні на вектор С буде"
      ],
      "metadata": {
        "id": "V5r_QiVmD8MA"
      }
    },
    {
      "cell_type": "code",
      "source": [
        "Result_matrix = np.dot(E_2X2, C)\n",
        "print(Result_matrix)"
      ],
      "metadata": {
        "colab": {
          "base_uri": "https://localhost:8080/"
        },
        "id": "NkVey_GWEInm",
        "outputId": "704391a8-e7ef-4193-bf1b-61a67ebeeafd"
      },
      "execution_count": 19,
      "outputs": [
        {
          "output_type": "stream",
          "name": "stdout",
          "text": [
            "[[0.1627]\n",
            " [0.4867]]\n"
          ]
        }
      ]
    },
    {
      "cell_type": "code",
      "source": [
        "E_2X2.shape, C.shape, Result_matrix.shape"
      ],
      "metadata": {
        "colab": {
          "base_uri": "https://localhost:8080/"
        },
        "id": "or7HqVk1EylV",
        "outputId": "bde48699-8193-41c5-a723-7dab3aa4c562"
      },
      "execution_count": 20,
      "outputs": [
        {
          "output_type": "execute_result",
          "data": {
            "text/plain": [
              "((2, 2), (2, 1), (2, 1))"
            ]
          },
          "metadata": {},
          "execution_count": 20
        }
      ]
    },
    {
      "cell_type": "markdown",
      "source": [
        "#3"
      ],
      "metadata": {
        "id": "wV4Kq07COPxF"
      }
    },
    {
      "cell_type": "code",
      "source": [
        "D, D.shape, Result_matrix, Result_matrix.shape"
      ],
      "metadata": {
        "colab": {
          "base_uri": "https://localhost:8080/"
        },
        "id": "Lry2mAnz0ohX",
        "outputId": "aef2f6ad-23ca-461f-8117-927f621208cc"
      },
      "execution_count": 36,
      "outputs": [
        {
          "output_type": "execute_result",
          "data": {
            "text/plain": [
              "(array([[0, 1],\n",
              "        [1, 0]]),\n",
              " (2, 2),\n",
              " array([[0.1627],\n",
              "        [0.4867]]),\n",
              " (2, 1))"
            ]
          },
          "metadata": {},
          "execution_count": 36
        }
      ]
    },
    {
      "cell_type": "code",
      "source": [
        "Result_matrix_D = np.dot(Result_matrix, D)\n",
        "print(Result_matrix_D)"
      ],
      "metadata": {
        "colab": {
          "base_uri": "https://localhost:8080/",
          "height": 162
        },
        "id": "VdiH6m64FP0a",
        "outputId": "9420d455-085e-403a-f29a-011aca97a9dc"
      },
      "execution_count": 43,
      "outputs": [
        {
          "output_type": "error",
          "ename": "ValueError",
          "evalue": "shapes (2,1) and (2,2) not aligned: 1 (dim 1) != 2 (dim 0)",
          "traceback": [
            "\u001b[0;31m---------------------------------------------------------------------------\u001b[0m",
            "\u001b[0;31mValueError\u001b[0m                                Traceback (most recent call last)",
            "\u001b[0;32m<ipython-input-43-2469041440>\u001b[0m in \u001b[0;36m<cell line: 0>\u001b[0;34m()\u001b[0m\n\u001b[0;32m----> 1\u001b[0;31m \u001b[0mResult_matrix_D\u001b[0m \u001b[0;34m=\u001b[0m \u001b[0mnp\u001b[0m\u001b[0;34m.\u001b[0m\u001b[0mdot\u001b[0m\u001b[0;34m(\u001b[0m\u001b[0mResult_matrix\u001b[0m\u001b[0;34m,\u001b[0m \u001b[0mD\u001b[0m\u001b[0;34m)\u001b[0m\u001b[0;34m\u001b[0m\u001b[0;34m\u001b[0m\u001b[0m\n\u001b[0m\u001b[1;32m      2\u001b[0m \u001b[0mprint\u001b[0m\u001b[0;34m(\u001b[0m\u001b[0mResult_matrix_D\u001b[0m\u001b[0;34m)\u001b[0m\u001b[0;34m\u001b[0m\u001b[0;34m\u001b[0m\u001b[0m\n",
            "\u001b[0;31mValueError\u001b[0m: shapes (2,1) and (2,2) not aligned: 1 (dim 1) != 2 (dim 0)"
          ]
        }
      ]
    },
    {
      "cell_type": "code",
      "source": [
        "Result_matrix_D = np.dot(D, Result_matrix)\n",
        "print(Result_matrix_D)"
      ],
      "metadata": {
        "colab": {
          "base_uri": "https://localhost:8080/"
        },
        "id": "dQvYxBRX1B0g",
        "outputId": "f6fcd1b6-6dd0-4c56-a103-eaf25e7d3a46"
      },
      "execution_count": 37,
      "outputs": [
        {
          "output_type": "stream",
          "name": "stdout",
          "text": [
            "[[0.4867]\n",
            " [0.1627]]\n"
          ]
        }
      ]
    },
    {
      "cell_type": "code",
      "source": [
        "D.shape, Result_matrix_D.shape"
      ],
      "metadata": {
        "colab": {
          "base_uri": "https://localhost:8080/"
        },
        "id": "2qc_lgNfGE74",
        "outputId": "f1855251-d714-4498-d225-8f73da5e028f"
      },
      "execution_count": 38,
      "outputs": [
        {
          "output_type": "execute_result",
          "data": {
            "text/plain": [
              "((2, 1), (2, 2))"
            ]
          },
          "metadata": {},
          "execution_count": 38
        }
      ]
    },
    {
      "cell_type": "markdown",
      "source": [
        "\n",
        "### Завдання 4: Транспонування матриць\n",
        "1. Транспонуйте `result_matrix`.\n",
        "2. Зробіть транспонування вектора `vector` і виведіть форму нової структури. Чи бачите ви зміну?\n",
        "3. Використайте операцію `numpy.expand_dims` над вектором `vector` з аргументом axis=1. Запишіть отриманий результат в змінну `column_vector` і виведіть на екран. Порівняйте з `vector`.\n",
        "4. Зробіть транспонування `column_vector`, виведіть результат на екран разом з розмірностями отриманої структури.\n",
        "\n",
        "\n"
      ],
      "metadata": {
        "id": "wohp0_cxSGpl"
      }
    },
    {
      "cell_type": "code",
      "source": [
        "Result_matrix_D, Result_matrix_D.shape"
      ],
      "metadata": {
        "colab": {
          "base_uri": "https://localhost:8080/"
        },
        "id": "MzkNcqEcM9Ej",
        "outputId": "b2255438-4d9f-4fc6-b2e6-c26cbf02c13b"
      },
      "execution_count": 39,
      "outputs": [
        {
          "output_type": "execute_result",
          "data": {
            "text/plain": [
              "(array([[0.4867],\n",
              "        [0.1627]]),\n",
              " (2, 1))"
            ]
          },
          "metadata": {},
          "execution_count": 39
        }
      ]
    },
    {
      "cell_type": "markdown",
      "source": [
        "#1"
      ],
      "metadata": {
        "id": "UxvBiAz1N96n"
      }
    },
    {
      "cell_type": "code",
      "source": [
        "# Транспонування\n",
        "Result_matrix_D.T, Result_matrix_D.T.shape"
      ],
      "metadata": {
        "id": "4hFcq1baVLii",
        "colab": {
          "base_uri": "https://localhost:8080/"
        },
        "outputId": "c208b6fb-411c-48f3-b2fd-98c49896f3fa"
      },
      "execution_count": 40,
      "outputs": [
        {
          "output_type": "execute_result",
          "data": {
            "text/plain": [
              "(array([[0.4867, 0.1627]]), (1, 2))"
            ]
          },
          "metadata": {},
          "execution_count": 40
        }
      ]
    },
    {
      "cell_type": "markdown",
      "source": [
        "#2"
      ],
      "metadata": {
        "id": "qsO_w2Q2N_p5"
      }
    },
    {
      "cell_type": "code",
      "source": [
        "#транспонування вектора vector"
      ],
      "metadata": {
        "id": "iqsaxpnrNG9B"
      },
      "execution_count": 28,
      "outputs": []
    },
    {
      "cell_type": "code",
      "source": [
        "v.T, v.T.shape"
      ],
      "metadata": {
        "colab": {
          "base_uri": "https://localhost:8080/"
        },
        "id": "VhiVWbKaNXhK",
        "outputId": "e2bdd8c2-f141-46d9-e6bc-53d7d3aec021"
      },
      "execution_count": 41,
      "outputs": [
        {
          "output_type": "execute_result",
          "data": {
            "text/plain": [
              "(array([0.79, 0.89, 0.73, 0.37, 0.08, 0.39, 0.95, 0.65, 0.15, 0.03]), (10,))"
            ]
          },
          "metadata": {},
          "execution_count": 41
        }
      ]
    },
    {
      "cell_type": "markdown",
      "source": [
        "якщо вектор горизонтальний, то в мене не змінилось нічого"
      ],
      "metadata": {
        "id": "wVX3JWseNxQa"
      }
    },
    {
      "cell_type": "markdown",
      "source": [
        "#3"
      ],
      "metadata": {
        "id": "8rzNknJCN68H"
      }
    },
    {
      "cell_type": "code",
      "source": [
        "column_v = np.expand_dims(v, axis=1)\n",
        "\n",
        "print(\"v:\", v)\n",
        "print(\"v.shape:\", v.shape)\n",
        "\n",
        "print(\"\\ncolumn_v:\\n\", column_v)\n",
        "print(\"column_v.shape:\", column_v.shape)"
      ],
      "metadata": {
        "colab": {
          "base_uri": "https://localhost:8080/"
        },
        "id": "0jYe8JrlOBxI",
        "outputId": "a2355bcb-d02b-4473-80f8-65c91bfbee38"
      },
      "execution_count": 42,
      "outputs": [
        {
          "output_type": "stream",
          "name": "stdout",
          "text": [
            "v: [0.79 0.89 0.73 0.37 0.08 0.39 0.95 0.65 0.15 0.03]\n",
            "v.shape: (10,)\n",
            "\n",
            "column_v:\n",
            " [[0.79]\n",
            " [0.89]\n",
            " [0.73]\n",
            " [0.37]\n",
            " [0.08]\n",
            " [0.39]\n",
            " [0.95]\n",
            " [0.65]\n",
            " [0.15]\n",
            " [0.03]]\n",
            "column_v.shape: (10, 1)\n"
          ]
        }
      ]
    },
    {
      "cell_type": "code",
      "source": [
        "column_v, v"
      ],
      "metadata": {
        "colab": {
          "base_uri": "https://localhost:8080/"
        },
        "id": "SZkgV-Yk0X2x",
        "outputId": "c1af9db7-8fc1-41b6-eb3b-7710ae6e9289"
      },
      "execution_count": 44,
      "outputs": [
        {
          "output_type": "execute_result",
          "data": {
            "text/plain": [
              "(array([[0.79],\n",
              "        [0.89],\n",
              "        [0.73],\n",
              "        [0.37],\n",
              "        [0.08],\n",
              "        [0.39],\n",
              "        [0.95],\n",
              "        [0.65],\n",
              "        [0.15],\n",
              "        [0.03]]),\n",
              " array([0.79, 0.89, 0.73, 0.37, 0.08, 0.39, 0.95, 0.65, 0.15, 0.03]))"
            ]
          },
          "metadata": {},
          "execution_count": 44
        }
      ]
    },
    {
      "cell_type": "code",
      "source": [
        "# Транспонування column_v\n",
        "column_v_T = column_v.T\n",
        "\n",
        "print(\"column_v_T:\\n\", column_v_T)\n",
        "print(\"column_v_T.shape:\", column_v_T.shape)"
      ],
      "metadata": {
        "colab": {
          "base_uri": "https://localhost:8080/"
        },
        "id": "E4N3PT8e11TQ",
        "outputId": "ebd84763-8a69-4160-926f-ac01f2ddb11d"
      },
      "execution_count": 45,
      "outputs": [
        {
          "output_type": "stream",
          "name": "stdout",
          "text": [
            "column_v_T:\n",
            " [[0.79 0.89 0.73 0.37 0.08 0.39 0.95 0.65 0.15 0.03]]\n",
            "column_v_T.shape: (1, 10)\n"
          ]
        }
      ]
    }
  ]
}